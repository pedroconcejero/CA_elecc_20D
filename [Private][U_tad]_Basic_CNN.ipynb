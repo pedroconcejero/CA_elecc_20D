{
  "metadata": {
    "kernelspec": {
      "language": "python",
      "display_name": "Python 3",
      "name": "python3"
    },
    "language_info": {
      "name": "python",
      "version": "3.10.14",
      "mimetype": "text/x-python",
      "codemirror_mode": {
        "name": "ipython",
        "version": 3
      },
      "pygments_lexer": "ipython3",
      "nbconvert_exporter": "python",
      "file_extension": ".py"
    },
    "kaggle": {
      "accelerator": "gpu",
      "dataSources": [
        {
          "sourceId": 85781,
          "databundleVersionId": 9710566,
          "sourceType": "competition"
        }
      ],
      "dockerImageVersionId": 30787,
      "isInternetEnabled": true,
      "language": "python",
      "sourceType": "notebook",
      "isGpuEnabled": true
    },
    "colab": {
      "name": "[Private][U-tad] Starter notebook",
      "provenance": [],
      "include_colab_link": true
    }
  },
  "nbformat_minor": 0,
  "nbformat": 4,
  "cells": [
    {
      "cell_type": "markdown",
      "metadata": {
        "id": "view-in-github",
        "colab_type": "text"
      },
      "source": [
        "<a href=\"https://colab.research.google.com/github/pedroconcejero/CA_elecc_20D/blob/master/%5BPrivate%5D%5BU_tad%5D_Basic_CNN.ipynb\" target=\"_parent\"><img src=\"https://colab.research.google.com/assets/colab-badge.svg\" alt=\"Open In Colab\"/></a>"
      ]
    },
    {
      "source": [
        "\n",
        "# IMPORTANT: RUN THIS CELL IN ORDER TO IMPORT YOUR KAGGLE DATA SOURCES\n",
        "# TO THE CORRECT LOCATION (/kaggle/input) IN YOUR NOTEBOOK,\n",
        "# THEN FEEL FREE TO DELETE THIS CELL.\n",
        "# NOTE: THIS NOTEBOOK ENVIRONMENT DIFFERS FROM KAGGLE'S PYTHON\n",
        "# ENVIRONMENT SO THERE MAY BE MISSING LIBRARIES USED BY YOUR\n",
        "# NOTEBOOK.\n",
        "\n",
        "import os\n",
        "import sys\n",
        "from tempfile import NamedTemporaryFile\n",
        "from urllib.request import urlopen\n",
        "from urllib.parse import unquote, urlparse\n",
        "from urllib.error import HTTPError\n",
        "from zipfile import ZipFile\n",
        "import tarfile\n",
        "import shutil\n",
        "\n",
        "CHUNK_SIZE = 40960\n",
        "DATA_SOURCE_MAPPING = 'private-u-tad-dogs-vs-cats-2024:https%3A%2F%2Fstorage.googleapis.com%2Fkaggle-competitions-data%2Fkaggle-v2%2F85781%2F9710566%2Fbundle%2Farchive.zip%3FX-Goog-Algorithm%3DGOOG4-RSA-SHA256%26X-Goog-Credential%3Dgcp-kaggle-com%2540kaggle-161607.iam.gserviceaccount.com%252F20241014%252Fauto%252Fstorage%252Fgoog4_request%26X-Goog-Date%3D20241014T144458Z%26X-Goog-Expires%3D259200%26X-Goog-SignedHeaders%3Dhost%26X-Goog-Signature%3D42ed9882689f3912b88116bc71e9ca8a3b1f509bbc37b14c538d0023b59c91c219555ac608b9c4d4dd13cbec91a88e9c32c511132015e44e5380914c74aa286238069528c514aaa58b9007b56acad615d484fe49751a3e7993794bac85d4b3e10fb0fc9880cff55f3708f16d5c6f46b0260490d33822e8a87a6092e6b37d728d1cdda9bbc56a36f6e64583c69eb14adb515985ac0ae2356d8769afc5d564c4ecf97665071c40df8b3c0ef3ebf7b6edc36d1887c4a372384dba4697ca8a337593a8b660433067ae291692756c278698e03ded7c60c9f420f9b6864d6d9ea2a05146f8cb9e49af5b93020fc3ffca1f9e79d2f21cad441b7e7a4262d0f24c2dd26d'\n",
        "\n",
        "KAGGLE_INPUT_PATH='/kaggle/input'\n",
        "KAGGLE_WORKING_PATH='/kaggle/working'\n",
        "KAGGLE_SYMLINK='kaggle'\n",
        "\n",
        "!umount /kaggle/input/ 2> /dev/null\n",
        "shutil.rmtree('/kaggle/input', ignore_errors=True)\n",
        "os.makedirs(KAGGLE_INPUT_PATH, 0o777, exist_ok=True)\n",
        "os.makedirs(KAGGLE_WORKING_PATH, 0o777, exist_ok=True)\n",
        "\n",
        "try:\n",
        "  os.symlink(KAGGLE_INPUT_PATH, os.path.join(\"..\", 'input'), target_is_directory=True)\n",
        "except FileExistsError:\n",
        "  pass\n",
        "try:\n",
        "  os.symlink(KAGGLE_WORKING_PATH, os.path.join(\"..\", 'working'), target_is_directory=True)\n",
        "except FileExistsError:\n",
        "  pass\n",
        "\n",
        "for data_source_mapping in DATA_SOURCE_MAPPING.split(','):\n",
        "    directory, download_url_encoded = data_source_mapping.split(':')\n",
        "    download_url = unquote(download_url_encoded)\n",
        "    filename = urlparse(download_url).path\n",
        "    destination_path = os.path.join(KAGGLE_INPUT_PATH, directory)\n",
        "    try:\n",
        "        with urlopen(download_url) as fileres, NamedTemporaryFile() as tfile:\n",
        "            total_length = fileres.headers['content-length']\n",
        "            print(f'Downloading {directory}, {total_length} bytes compressed')\n",
        "            dl = 0\n",
        "            data = fileres.read(CHUNK_SIZE)\n",
        "            while len(data) > 0:\n",
        "                dl += len(data)\n",
        "                tfile.write(data)\n",
        "                done = int(50 * dl / int(total_length))\n",
        "                sys.stdout.write(f\"\\r[{'=' * done}{' ' * (50-done)}] {dl} bytes downloaded\")\n",
        "                sys.stdout.flush()\n",
        "                data = fileres.read(CHUNK_SIZE)\n",
        "            if filename.endswith('.zip'):\n",
        "              with ZipFile(tfile) as zfile:\n",
        "                zfile.extractall(destination_path)\n",
        "            else:\n",
        "              with tarfile.open(tfile.name) as tarfile:\n",
        "                tarfile.extractall(destination_path)\n",
        "            print(f'\\nDownloaded and uncompressed: {directory}')\n",
        "    except HTTPError as e:\n",
        "        print(f'Failed to load (likely expired) {download_url} to path {destination_path}')\n",
        "        continue\n",
        "    except OSError as e:\n",
        "        print(f'Failed to load {download_url} to path {destination_path}')\n",
        "        continue\n",
        "\n",
        "print('Data source import complete.')\n"
      ],
      "metadata": {
        "id": "wg3ILItJfVsx"
      },
      "cell_type": "code",
      "outputs": [],
      "execution_count": null
    },
    {
      "cell_type": "code",
      "source": [
        "import os\n",
        "import numpy as np\n",
        "import matplotlib.pyplot as plt\n",
        "import pandas as pd\n",
        "\n",
        "from tensorflow import data as tf_data\n",
        "import keras\n",
        "\n",
        "seed = 1\n",
        "keras.utils.set_random_seed(seed)"
      ],
      "metadata": {
        "_uuid": "8f2839f25d086af736a60e9eeb907d3b93b6e0e5",
        "_cell_guid": "b1076dfc-b9ad-4769-8c92-a6c4dae69d19",
        "execution": {
          "iopub.status.busy": "2024-10-14T14:26:46.961536Z",
          "iopub.execute_input": "2024-10-14T14:26:46.962235Z",
          "iopub.status.idle": "2024-10-14T14:27:00.946725Z",
          "shell.execute_reply.started": "2024-10-14T14:26:46.962188Z",
          "shell.execute_reply": "2024-10-14T14:27:00.945888Z"
        },
        "trusted": true,
        "id": "NLSnSMmjfVsz"
      },
      "execution_count": null,
      "outputs": []
    },
    {
      "cell_type": "markdown",
      "source": [
        "### Read in the training data"
      ],
      "metadata": {
        "id": "lYYh_Ij1fVs0"
      }
    },
    {
      "cell_type": "code",
      "source": [
        "image_size = (256, 256)\n",
        "\n",
        "# when working with 20_000 files for training this\n",
        "# will lead to exactly 160 mini-batches per epoch\n",
        "batch_size = 125\n",
        "\n",
        "# https://keras.io/api/data_loading/image/#imagedatasetfromdirectory-function\n",
        "\n",
        "train_ds, val_ds = keras.utils.image_dataset_from_directory(\n",
        "    #\"PetImages\",\n",
        "    \"/kaggle/input/private-u-tad-dogs-vs-cats-2024/train/train\",\n",
        "    validation_split=0.2,\n",
        "    subset=\"both\",\n",
        "    seed=seed,\n",
        "    image_size=image_size,\n",
        "    batch_size=batch_size,\n",
        "    labels=\"inferred\",\n",
        "    label_mode=\"categorical\",\n",
        ")"
      ],
      "metadata": {
        "execution": {
          "iopub.status.busy": "2024-10-14T14:27:00.948264Z",
          "iopub.execute_input": "2024-10-14T14:27:00.94882Z",
          "iopub.status.idle": "2024-10-14T14:27:38.792962Z",
          "shell.execute_reply.started": "2024-10-14T14:27:00.948785Z",
          "shell.execute_reply": "2024-10-14T14:27:38.792118Z"
        },
        "trusted": true,
        "id": "iL6IPk82fVs1",
        "outputId": "a7c21392-a984-40fd-abac-2d4cb8dc5987"
      },
      "execution_count": null,
      "outputs": [
        {
          "name": "stdout",
          "text": "Found 25000 files belonging to 2 classes.\nUsing 20000 files for training.\nUsing 5000 files for validation.\n",
          "output_type": "stream"
        }
      ]
    },
    {
      "cell_type": "markdown",
      "source": [
        "### A basic sequential CNN model"
      ],
      "metadata": {
        "id": "Bi-Kan9GfVs4"
      }
    },
    {
      "cell_type": "code",
      "source": [
        "from keras.models import Sequential\n",
        "from keras.layers import Conv2D\n",
        "from keras.layers import MaxPooling2D\n",
        "from keras.layers import Flatten\n",
        "from keras.layers import Dense\n",
        "\n",
        "input_shape = image_size + (3,)\n",
        "\n",
        "model = Sequential()\n",
        "model.add(Conv2D(32, (3, 3), activation='relu', input_shape = input_shape))\n",
        "model.add(MaxPooling2D((2, 2)))\n",
        "model.add(Conv2D(64, (3, 3), activation='relu'))\n",
        "model.add(MaxPooling2D((2, 2)))\n",
        "model.add(Conv2D(128, (3, 3), activation='relu'))\n",
        "model.add(MaxPooling2D((2, 2)))\n",
        "model.add(Flatten())\n",
        "model.add(Dense(512, activation='relu'))\n",
        "model.add(Dense(2, activation='softmax'))\n",
        "\n",
        "model.summary()"
      ],
      "metadata": {
        "execution": {
          "iopub.status.busy": "2024-10-14T14:27:38.794104Z",
          "iopub.execute_input": "2024-10-14T14:27:38.794435Z",
          "iopub.status.idle": "2024-10-14T14:27:38.943816Z",
          "shell.execute_reply.started": "2024-10-14T14:27:38.7944Z",
          "shell.execute_reply": "2024-10-14T14:27:38.942965Z"
        },
        "trusted": true,
        "id": "qVvkDwT0fVs5",
        "outputId": "3b9c4c98-3d8c-49ef-fc8e-93a4fbac9a29"
      },
      "execution_count": null,
      "outputs": [
        {
          "name": "stderr",
          "text": "/opt/conda/lib/python3.10/site-packages/keras/src/layers/convolutional/base_conv.py:107: UserWarning: Do not pass an `input_shape`/`input_dim` argument to a layer. When using Sequential models, prefer using an `Input(shape)` object as the first layer in the model instead.\n  super().__init__(activity_regularizer=activity_regularizer, **kwargs)\n",
          "output_type": "stream"
        },
        {
          "output_type": "display_data",
          "data": {
            "text/plain": "\u001b[1mModel: \"sequential\"\u001b[0m\n",
            "text/html": "<pre style=\"white-space:pre;overflow-x:auto;line-height:normal;font-family:Menlo,'DejaVu Sans Mono',consolas,'Courier New',monospace\"><span style=\"font-weight: bold\">Model: \"sequential\"</span>\n</pre>\n"
          },
          "metadata": {}
        },
        {
          "output_type": "display_data",
          "data": {
            "text/plain": "┏━━━━━━━━━━━━━━━━━━━━━━━━━━━━━━━━━┳━━━━━━━━━━━━━━━━━━━━━━━━┳━━━━━━━━━━━━━━━┓\n┃\u001b[1m \u001b[0m\u001b[1mLayer (type)                   \u001b[0m\u001b[1m \u001b[0m┃\u001b[1m \u001b[0m\u001b[1mOutput Shape          \u001b[0m\u001b[1m \u001b[0m┃\u001b[1m \u001b[0m\u001b[1m      Param #\u001b[0m\u001b[1m \u001b[0m┃\n┡━━━━━━━━━━━━━━━━━━━━━━━━━━━━━━━━━╇━━━━━━━━━━━━━━━━━━━━━━━━╇━━━━━━━━━━━━━━━┩\n│ conv2d (\u001b[38;5;33mConv2D\u001b[0m)                 │ (\u001b[38;5;45mNone\u001b[0m, \u001b[38;5;34m254\u001b[0m, \u001b[38;5;34m254\u001b[0m, \u001b[38;5;34m32\u001b[0m)   │           \u001b[38;5;34m896\u001b[0m │\n├─────────────────────────────────┼────────────────────────┼───────────────┤\n│ max_pooling2d (\u001b[38;5;33mMaxPooling2D\u001b[0m)    │ (\u001b[38;5;45mNone\u001b[0m, \u001b[38;5;34m127\u001b[0m, \u001b[38;5;34m127\u001b[0m, \u001b[38;5;34m32\u001b[0m)   │             \u001b[38;5;34m0\u001b[0m │\n├─────────────────────────────────┼────────────────────────┼───────────────┤\n│ conv2d_1 (\u001b[38;5;33mConv2D\u001b[0m)               │ (\u001b[38;5;45mNone\u001b[0m, \u001b[38;5;34m125\u001b[0m, \u001b[38;5;34m125\u001b[0m, \u001b[38;5;34m64\u001b[0m)   │        \u001b[38;5;34m18,496\u001b[0m │\n├─────────────────────────────────┼────────────────────────┼───────────────┤\n│ max_pooling2d_1 (\u001b[38;5;33mMaxPooling2D\u001b[0m)  │ (\u001b[38;5;45mNone\u001b[0m, \u001b[38;5;34m62\u001b[0m, \u001b[38;5;34m62\u001b[0m, \u001b[38;5;34m64\u001b[0m)     │             \u001b[38;5;34m0\u001b[0m │\n├─────────────────────────────────┼────────────────────────┼───────────────┤\n│ conv2d_2 (\u001b[38;5;33mConv2D\u001b[0m)               │ (\u001b[38;5;45mNone\u001b[0m, \u001b[38;5;34m60\u001b[0m, \u001b[38;5;34m60\u001b[0m, \u001b[38;5;34m128\u001b[0m)    │        \u001b[38;5;34m73,856\u001b[0m │\n├─────────────────────────────────┼────────────────────────┼───────────────┤\n│ max_pooling2d_2 (\u001b[38;5;33mMaxPooling2D\u001b[0m)  │ (\u001b[38;5;45mNone\u001b[0m, \u001b[38;5;34m30\u001b[0m, \u001b[38;5;34m30\u001b[0m, \u001b[38;5;34m128\u001b[0m)    │             \u001b[38;5;34m0\u001b[0m │\n├─────────────────────────────────┼────────────────────────┼───────────────┤\n│ flatten (\u001b[38;5;33mFlatten\u001b[0m)               │ (\u001b[38;5;45mNone\u001b[0m, \u001b[38;5;34m115200\u001b[0m)         │             \u001b[38;5;34m0\u001b[0m │\n├─────────────────────────────────┼────────────────────────┼───────────────┤\n│ dense (\u001b[38;5;33mDense\u001b[0m)                   │ (\u001b[38;5;45mNone\u001b[0m, \u001b[38;5;34m512\u001b[0m)            │    \u001b[38;5;34m58,982,912\u001b[0m │\n├─────────────────────────────────┼────────────────────────┼───────────────┤\n│ dense_1 (\u001b[38;5;33mDense\u001b[0m)                 │ (\u001b[38;5;45mNone\u001b[0m, \u001b[38;5;34m2\u001b[0m)              │         \u001b[38;5;34m1,026\u001b[0m │\n└─────────────────────────────────┴────────────────────────┴───────────────┘\n",
            "text/html": "<pre style=\"white-space:pre;overflow-x:auto;line-height:normal;font-family:Menlo,'DejaVu Sans Mono',consolas,'Courier New',monospace\">┏━━━━━━━━━━━━━━━━━━━━━━━━━━━━━━━━━┳━━━━━━━━━━━━━━━━━━━━━━━━┳━━━━━━━━━━━━━━━┓\n┃<span style=\"font-weight: bold\"> Layer (type)                    </span>┃<span style=\"font-weight: bold\"> Output Shape           </span>┃<span style=\"font-weight: bold\">       Param # </span>┃\n┡━━━━━━━━━━━━━━━━━━━━━━━━━━━━━━━━━╇━━━━━━━━━━━━━━━━━━━━━━━━╇━━━━━━━━━━━━━━━┩\n│ conv2d (<span style=\"color: #0087ff; text-decoration-color: #0087ff\">Conv2D</span>)                 │ (<span style=\"color: #00d7ff; text-decoration-color: #00d7ff\">None</span>, <span style=\"color: #00af00; text-decoration-color: #00af00\">254</span>, <span style=\"color: #00af00; text-decoration-color: #00af00\">254</span>, <span style=\"color: #00af00; text-decoration-color: #00af00\">32</span>)   │           <span style=\"color: #00af00; text-decoration-color: #00af00\">896</span> │\n├─────────────────────────────────┼────────────────────────┼───────────────┤\n│ max_pooling2d (<span style=\"color: #0087ff; text-decoration-color: #0087ff\">MaxPooling2D</span>)    │ (<span style=\"color: #00d7ff; text-decoration-color: #00d7ff\">None</span>, <span style=\"color: #00af00; text-decoration-color: #00af00\">127</span>, <span style=\"color: #00af00; text-decoration-color: #00af00\">127</span>, <span style=\"color: #00af00; text-decoration-color: #00af00\">32</span>)   │             <span style=\"color: #00af00; text-decoration-color: #00af00\">0</span> │\n├─────────────────────────────────┼────────────────────────┼───────────────┤\n│ conv2d_1 (<span style=\"color: #0087ff; text-decoration-color: #0087ff\">Conv2D</span>)               │ (<span style=\"color: #00d7ff; text-decoration-color: #00d7ff\">None</span>, <span style=\"color: #00af00; text-decoration-color: #00af00\">125</span>, <span style=\"color: #00af00; text-decoration-color: #00af00\">125</span>, <span style=\"color: #00af00; text-decoration-color: #00af00\">64</span>)   │        <span style=\"color: #00af00; text-decoration-color: #00af00\">18,496</span> │\n├─────────────────────────────────┼────────────────────────┼───────────────┤\n│ max_pooling2d_1 (<span style=\"color: #0087ff; text-decoration-color: #0087ff\">MaxPooling2D</span>)  │ (<span style=\"color: #00d7ff; text-decoration-color: #00d7ff\">None</span>, <span style=\"color: #00af00; text-decoration-color: #00af00\">62</span>, <span style=\"color: #00af00; text-decoration-color: #00af00\">62</span>, <span style=\"color: #00af00; text-decoration-color: #00af00\">64</span>)     │             <span style=\"color: #00af00; text-decoration-color: #00af00\">0</span> │\n├─────────────────────────────────┼────────────────────────┼───────────────┤\n│ conv2d_2 (<span style=\"color: #0087ff; text-decoration-color: #0087ff\">Conv2D</span>)               │ (<span style=\"color: #00d7ff; text-decoration-color: #00d7ff\">None</span>, <span style=\"color: #00af00; text-decoration-color: #00af00\">60</span>, <span style=\"color: #00af00; text-decoration-color: #00af00\">60</span>, <span style=\"color: #00af00; text-decoration-color: #00af00\">128</span>)    │        <span style=\"color: #00af00; text-decoration-color: #00af00\">73,856</span> │\n├─────────────────────────────────┼────────────────────────┼───────────────┤\n│ max_pooling2d_2 (<span style=\"color: #0087ff; text-decoration-color: #0087ff\">MaxPooling2D</span>)  │ (<span style=\"color: #00d7ff; text-decoration-color: #00d7ff\">None</span>, <span style=\"color: #00af00; text-decoration-color: #00af00\">30</span>, <span style=\"color: #00af00; text-decoration-color: #00af00\">30</span>, <span style=\"color: #00af00; text-decoration-color: #00af00\">128</span>)    │             <span style=\"color: #00af00; text-decoration-color: #00af00\">0</span> │\n├─────────────────────────────────┼────────────────────────┼───────────────┤\n│ flatten (<span style=\"color: #0087ff; text-decoration-color: #0087ff\">Flatten</span>)               │ (<span style=\"color: #00d7ff; text-decoration-color: #00d7ff\">None</span>, <span style=\"color: #00af00; text-decoration-color: #00af00\">115200</span>)         │             <span style=\"color: #00af00; text-decoration-color: #00af00\">0</span> │\n├─────────────────────────────────┼────────────────────────┼───────────────┤\n│ dense (<span style=\"color: #0087ff; text-decoration-color: #0087ff\">Dense</span>)                   │ (<span style=\"color: #00d7ff; text-decoration-color: #00d7ff\">None</span>, <span style=\"color: #00af00; text-decoration-color: #00af00\">512</span>)            │    <span style=\"color: #00af00; text-decoration-color: #00af00\">58,982,912</span> │\n├─────────────────────────────────┼────────────────────────┼───────────────┤\n│ dense_1 (<span style=\"color: #0087ff; text-decoration-color: #0087ff\">Dense</span>)                 │ (<span style=\"color: #00d7ff; text-decoration-color: #00d7ff\">None</span>, <span style=\"color: #00af00; text-decoration-color: #00af00\">2</span>)              │         <span style=\"color: #00af00; text-decoration-color: #00af00\">1,026</span> │\n└─────────────────────────────────┴────────────────────────┴───────────────┘\n</pre>\n"
          },
          "metadata": {}
        },
        {
          "output_type": "display_data",
          "data": {
            "text/plain": "\u001b[1m Total params: \u001b[0m\u001b[38;5;34m59,077,186\u001b[0m (225.36 MB)\n",
            "text/html": "<pre style=\"white-space:pre;overflow-x:auto;line-height:normal;font-family:Menlo,'DejaVu Sans Mono',consolas,'Courier New',monospace\"><span style=\"font-weight: bold\"> Total params: </span><span style=\"color: #00af00; text-decoration-color: #00af00\">59,077,186</span> (225.36 MB)\n</pre>\n"
          },
          "metadata": {}
        },
        {
          "output_type": "display_data",
          "data": {
            "text/plain": "\u001b[1m Trainable params: \u001b[0m\u001b[38;5;34m59,077,186\u001b[0m (225.36 MB)\n",
            "text/html": "<pre style=\"white-space:pre;overflow-x:auto;line-height:normal;font-family:Menlo,'DejaVu Sans Mono',consolas,'Courier New',monospace\"><span style=\"font-weight: bold\"> Trainable params: </span><span style=\"color: #00af00; text-decoration-color: #00af00\">59,077,186</span> (225.36 MB)\n</pre>\n"
          },
          "metadata": {}
        },
        {
          "output_type": "display_data",
          "data": {
            "text/plain": "\u001b[1m Non-trainable params: \u001b[0m\u001b[38;5;34m0\u001b[0m (0.00 B)\n",
            "text/html": "<pre style=\"white-space:pre;overflow-x:auto;line-height:normal;font-family:Menlo,'DejaVu Sans Mono',consolas,'Courier New',monospace\"><span style=\"font-weight: bold\"> Non-trainable params: </span><span style=\"color: #00af00; text-decoration-color: #00af00\">0</span> (0.00 B)\n</pre>\n"
          },
          "metadata": {}
        }
      ]
    },
    {
      "cell_type": "markdown",
      "source": [
        "### Compile and train (fit)"
      ],
      "metadata": {
        "id": "va0N3h28fVs6"
      }
    },
    {
      "cell_type": "code",
      "source": [
        "%%time\n",
        "\n",
        "model.compile(optimizer=keras.optimizers.RMSprop(learning_rate=0.001,\n",
        "                                                 momentum=0.0),\n",
        "              loss='categorical_crossentropy',\n",
        "              metrics=['accuracy'])\n",
        "\n",
        "epochs = 12\n",
        "\n",
        "history = model.fit(train_ds,\n",
        "                    validation_data = val_ds,\n",
        "                    epochs = epochs,)"
      ],
      "metadata": {
        "execution": {
          "iopub.status.busy": "2024-10-14T14:27:38.945815Z",
          "iopub.execute_input": "2024-10-14T14:27:38.946134Z",
          "iopub.status.idle": "2024-10-14T14:32:48.570863Z",
          "shell.execute_reply.started": "2024-10-14T14:27:38.9461Z",
          "shell.execute_reply": "2024-10-14T14:32:48.569897Z"
        },
        "trusted": true,
        "id": "YyR3YSjMfVs7",
        "outputId": "eef36168-9f60-4322-9f11-1b7a83e9f273"
      },
      "execution_count": null,
      "outputs": [
        {
          "name": "stdout",
          "text": "Epoch 1/12\n",
          "output_type": "stream"
        },
        {
          "name": "stderr",
          "text": "WARNING: All log messages before absl::InitializeLog() is called are written to STDERR\nI0000 00:00:1728916060.405796     100 service.cc:145] XLA service 0x7ff290002540 initialized for platform CUDA (this does not guarantee that XLA will be used). Devices:\nI0000 00:00:1728916060.405866     100 service.cc:153]   StreamExecutor device (0): Tesla P100-PCIE-16GB, Compute Capability 6.0\n2024-10-14 14:27:49.301891: E external/local_xla/xla/service/slow_operation_alarm.cc:65] Trying algorithm eng0{} for conv (f32[64,32,3,3]{3,2,1,0}, u8[0]{0}) custom-call(f32[125,32,127,127]{3,2,1,0}, f32[125,64,125,125]{3,2,1,0}), window={size=3x3}, dim_labels=bf01_oi01->bf01, custom_call_target=\"__cudnn$convBackwardFilter\", backend_config={\"operation_queue_id\":\"0\",\"wait_on_operation_queues\":[],\"cudnn_conv_backend_config\":{\"conv_result_scale\":1,\"activation_mode\":\"kNone\",\"side_input_scale\":0,\"leakyrelu_alpha\":0}} is taking a while...\n2024-10-14 14:27:50.149251: E external/local_xla/xla/service/slow_operation_alarm.cc:133] The operation took 1.847492272s\nTrying algorithm eng0{} for conv (f32[64,32,3,3]{3,2,1,0}, u8[0]{0}) custom-call(f32[125,32,127,127]{3,2,1,0}, f32[125,64,125,125]{3,2,1,0}), window={size=3x3}, dim_labels=bf01_oi01->bf01, custom_call_target=\"__cudnn$convBackwardFilter\", backend_config={\"operation_queue_id\":\"0\",\"wait_on_operation_queues\":[],\"cudnn_conv_backend_config\":{\"conv_result_scale\":1,\"activation_mode\":\"kNone\",\"side_input_scale\":0,\"leakyrelu_alpha\":0}} is taking a while...\n",
          "output_type": "stream"
        },
        {
          "name": "stdout",
          "text": "\u001b[1m  1/160\u001b[0m \u001b[37m━━━━━━━━━━━━━━━━━━━━\u001b[0m \u001b[1m34:30\u001b[0m 13s/step - accuracy: 0.5040 - loss: 10.2328",
          "output_type": "stream"
        },
        {
          "name": "stderr",
          "text": "I0000 00:00:1728916071.882982     100 device_compiler.h:188] Compiled cluster using XLA!  This line is logged at most once for the lifetime of the process.\n",
          "output_type": "stream"
        },
        {
          "name": "stdout",
          "text": "\u001b[1m160/160\u001b[0m \u001b[32m━━━━━━━━━━━━━━━━━━━━\u001b[0m\u001b[37m\u001b[0m \u001b[1m60s\u001b[0m 298ms/step - accuracy: 0.5605 - loss: 1430.2374 - val_accuracy: 0.5902 - val_loss: 0.6827\nEpoch 2/12\n\u001b[1m160/160\u001b[0m \u001b[32m━━━━━━━━━━━━━━━━━━━━\u001b[0m\u001b[37m\u001b[0m \u001b[1m21s\u001b[0m 130ms/step - accuracy: 0.5393 - loss: 1.7532 - val_accuracy: 0.5506 - val_loss: 0.7258\nEpoch 3/12\n\u001b[1m160/160\u001b[0m \u001b[32m━━━━━━━━━━━━━━━━━━━━\u001b[0m\u001b[37m\u001b[0m \u001b[1m21s\u001b[0m 128ms/step - accuracy: 0.5672 - loss: 2.8363 - val_accuracy: 0.6180 - val_loss: 0.6674\nEpoch 4/12\n\u001b[1m160/160\u001b[0m \u001b[32m━━━━━━━━━━━━━━━━━━━━\u001b[0m\u001b[37m\u001b[0m \u001b[1m21s\u001b[0m 131ms/step - accuracy: 0.5732 - loss: 3.7049 - val_accuracy: 0.5290 - val_loss: 0.6774\nEpoch 5/12\n\u001b[1m160/160\u001b[0m \u001b[32m━━━━━━━━━━━━━━━━━━━━\u001b[0m\u001b[37m\u001b[0m \u001b[1m21s\u001b[0m 130ms/step - accuracy: 0.5441 - loss: 0.7794 - val_accuracy: 0.6210 - val_loss: 0.6589\nEpoch 6/12\n\u001b[1m160/160\u001b[0m \u001b[32m━━━━━━━━━━━━━━━━━━━━\u001b[0m\u001b[37m\u001b[0m \u001b[1m21s\u001b[0m 128ms/step - accuracy: 0.6823 - loss: 0.6207 - val_accuracy: 0.7498 - val_loss: 0.5266\nEpoch 7/12\n\u001b[1m160/160\u001b[0m \u001b[32m━━━━━━━━━━━━━━━━━━━━\u001b[0m\u001b[37m\u001b[0m \u001b[1m21s\u001b[0m 130ms/step - accuracy: 0.7429 - loss: 0.5346 - val_accuracy: 0.7662 - val_loss: 0.5007\nEpoch 8/12\n\u001b[1m160/160\u001b[0m \u001b[32m━━━━━━━━━━━━━━━━━━━━\u001b[0m\u001b[37m\u001b[0m \u001b[1m21s\u001b[0m 130ms/step - accuracy: 0.7898 - loss: 0.4585 - val_accuracy: 0.7758 - val_loss: 0.4892\nEpoch 9/12\n\u001b[1m160/160\u001b[0m \u001b[32m━━━━━━━━━━━━━━━━━━━━\u001b[0m\u001b[37m\u001b[0m \u001b[1m21s\u001b[0m 129ms/step - accuracy: 0.8257 - loss: 0.3886 - val_accuracy: 0.7944 - val_loss: 0.4831\nEpoch 10/12\n\u001b[1m160/160\u001b[0m \u001b[32m━━━━━━━━━━━━━━━━━━━━\u001b[0m\u001b[37m\u001b[0m \u001b[1m21s\u001b[0m 131ms/step - accuracy: 0.8517 - loss: 0.3440 - val_accuracy: 0.7942 - val_loss: 0.5359\nEpoch 11/12\n\u001b[1m160/160\u001b[0m \u001b[32m━━━━━━━━━━━━━━━━━━━━\u001b[0m\u001b[37m\u001b[0m \u001b[1m21s\u001b[0m 129ms/step - accuracy: 0.8758 - loss: 0.2757 - val_accuracy: 0.7944 - val_loss: 0.5984\nEpoch 12/12\n\u001b[1m160/160\u001b[0m \u001b[32m━━━━━━━━━━━━━━━━━━━━\u001b[0m\u001b[37m\u001b[0m \u001b[1m21s\u001b[0m 130ms/step - accuracy: 0.9132 - loss: 0.2042 - val_accuracy: 0.7944 - val_loss: 0.7445\nCPU times: user 12min 46s, sys: 38.3 s, total: 13min 24s\nWall time: 5min 9s\n",
          "output_type": "stream"
        }
      ]
    },
    {
      "cell_type": "code",
      "source": [
        "logs = pd.DataFrame(history.history)\n",
        "\n",
        "plt.figure(figsize=(14, 4))\n",
        "plt.subplot(1, 2, 1)\n",
        "plt.plot(logs.loc[1:,\"loss\"], lw=2, label='training loss')\n",
        "plt.plot(logs.loc[1:,\"val_loss\"], lw=2, label='validation loss')\n",
        "plt.xlabel(\"Epoch\")\n",
        "plt.ylabel(\"Loss\")\n",
        "plt.legend()\n",
        "plt.subplot(1, 2, 2)\n",
        "plt.plot(logs.loc[1:,\"accuracy\"], lw=2, label='training accuracy')\n",
        "plt.plot(logs.loc[1:,\"val_accuracy\"], lw=2, label='validation accuracy')\n",
        "plt.xlabel(\"Epoch\")\n",
        "plt.ylabel(\"Accuracy\")\n",
        "plt.legend(loc='lower right')\n",
        "plt.show()"
      ],
      "metadata": {
        "execution": {
          "iopub.status.busy": "2024-10-14T14:32:48.572176Z",
          "iopub.execute_input": "2024-10-14T14:32:48.572529Z",
          "iopub.status.idle": "2024-10-14T14:32:49.02775Z",
          "shell.execute_reply.started": "2024-10-14T14:32:48.572492Z",
          "shell.execute_reply": "2024-10-14T14:32:49.026917Z"
        },
        "trusted": true,
        "id": "a6ButEfBfVs9",
        "outputId": "97f6ce9f-d6c8-4333-8d28-cbe9e96e5801"
      },
      "execution_count": null,
      "outputs": [
        {
          "output_type": "display_data",
          "data": {
            "text/plain": "<Figure size 1400x400 with 2 Axes>",
            "image/png": "[encoded data removed]"
          },
          "metadata": {}
        }
      ]
    },
    {
      "cell_type": "markdown",
      "source": [
        "### Create predictions for all test images"
      ],
      "metadata": {
        "id": "KyfnxJPYfVs_"
      }
    },
    {
      "cell_type": "code",
      "source": [
        "%%time\n",
        "\n",
        "folder_path = \"/kaggle/input/private-u-tad-dogs-vs-cats-2024/test/test/\"\n",
        "\n",
        "discrimination_threshold = 0.5  # below 0.5 is a cat, above 0.5 is a dog\n",
        "predictions_dict = {}\n",
        "\n",
        "for img in os.listdir(folder_path):\n",
        "    img = os.path.join(folder_path, img)\n",
        "\n",
        "    # save the image name\n",
        "    file_name = img.split('/')[-1]\n",
        "    file_no_extension = file_name.split('.')[0]\n",
        "\n",
        "    img = keras.utils.load_img(img, target_size=image_size)\n",
        "    img_array = keras.utils.img_to_array(img)\n",
        "    img_array = keras.ops.expand_dims(img_array, 0)\n",
        "    predictions = model.predict(img_array, verbose=None)\n",
        "    score = predictions[0][1]\n",
        "    label = (score > discrimination_threshold )*1\n",
        "\n",
        "    # save the predictions to a dictionary\n",
        "    predictions_dict[int(file_no_extension)] = label"
      ],
      "metadata": {
        "execution": {
          "iopub.status.busy": "2024-10-14T14:32:49.028912Z",
          "iopub.execute_input": "2024-10-14T14:32:49.029245Z",
          "iopub.status.idle": "2024-10-14T14:35:25.941053Z",
          "shell.execute_reply.started": "2024-10-14T14:32:49.029209Z",
          "shell.execute_reply": "2024-10-14T14:35:25.940099Z"
        },
        "trusted": true,
        "id": "RQmBY8upfVs_",
        "outputId": "c4c81259-4505-47e2-ecc7-f59a2508d708"
      },
      "execution_count": null,
      "outputs": [
        {
          "name": "stdout",
          "text": "CPU times: user 1min 58s, sys: 11.4 s, total: 2min 9s\nWall time: 2min 36s\n",
          "output_type": "stream"
        }
      ]
    },
    {
      "cell_type": "markdown",
      "source": [
        "### Save predictions to a competition submission file"
      ],
      "metadata": {
        "id": "adGKV5PDfVtB"
      }
    },
    {
      "cell_type": "code",
      "source": [
        "submission = pd.DataFrame(predictions_dict.items(), columns=[\"id\", \"label\"]).sort_values(by='id', ascending=True)\n",
        "submission.to_csv('submission.csv',index=False)\n",
        "\n",
        "# print numbers of each class label\n",
        "submission[\"label\"].value_counts()"
      ],
      "metadata": {
        "execution": {
          "iopub.status.busy": "2024-10-14T14:35:25.942162Z",
          "iopub.execute_input": "2024-10-14T14:35:25.94246Z",
          "iopub.status.idle": "2024-10-14T14:35:25.969058Z",
          "shell.execute_reply.started": "2024-10-14T14:35:25.942427Z",
          "shell.execute_reply": "2024-10-14T14:35:25.968065Z"
        },
        "trusted": true,
        "id": "6H56f4ymfVtB",
        "outputId": "0ca0fe05-efdc-40ad-a9e1-a8998350c0fc"
      },
      "execution_count": null,
      "outputs": [
        {
          "execution_count": 7,
          "output_type": "execute_result",
          "data": {
            "text/plain": "label\n1    541\n0    526\nName: count, dtype: int64"
          },
          "metadata": {}
        }
      ]
    },
    {
      "cell_type": "code",
      "source": [
        "submission"
      ],
      "metadata": {
        "execution": {
          "iopub.status.busy": "2024-10-14T14:36:15.484479Z",
          "iopub.execute_input": "2024-10-14T14:36:15.484939Z",
          "iopub.status.idle": "2024-10-14T14:36:15.500623Z",
          "shell.execute_reply.started": "2024-10-14T14:36:15.484894Z",
          "shell.execute_reply": "2024-10-14T14:36:15.499632Z"
        },
        "trusted": true,
        "id": "OFG3r8bhfVtC",
        "outputId": "e7a895dd-b466-4053-a7fe-79b63f2dee09"
      },
      "execution_count": null,
      "outputs": [
        {
          "execution_count": 8,
          "output_type": "execute_result",
          "data": {
            "text/plain": "        id  label\n292      1      0\n1031     2      1\n863      3      0\n830      4      1\n78       5      1\n...    ...    ...\n712   1063      1\n525   1064      1\n951   1065      0\n470   1066      1\n198   1067      1\n\n[1067 rows x 2 columns]",
            "text/html": "<div>\n<style scoped>\n    .dataframe tbody tr th:only-of-type {\n        vertical-align: middle;\n    }\n\n    .dataframe tbody tr th {\n        vertical-align: top;\n    }\n\n    .dataframe thead th {\n        text-align: right;\n    }\n</style>\n<table border=\"1\" class=\"dataframe\">\n  <thead>\n    <tr style=\"text-align: right;\">\n      <th></th>\n      <th>id</th>\n      <th>label</th>\n    </tr>\n  </thead>\n  <tbody>\n    <tr>\n      <th>292</th>\n      <td>1</td>\n      <td>0</td>\n    </tr>\n    <tr>\n      <th>1031</th>\n      <td>2</td>\n      <td>1</td>\n    </tr>\n    <tr>\n      <th>863</th>\n      <td>3</td>\n      <td>0</td>\n    </tr>\n    <tr>\n      <th>830</th>\n      <td>4</td>\n      <td>1</td>\n    </tr>\n    <tr>\n      <th>78</th>\n      <td>5</td>\n      <td>1</td>\n    </tr>\n    <tr>\n      <th>...</th>\n      <td>...</td>\n      <td>...</td>\n    </tr>\n    <tr>\n      <th>712</th>\n      <td>1063</td>\n      <td>1</td>\n    </tr>\n    <tr>\n      <th>525</th>\n      <td>1064</td>\n      <td>1</td>\n    </tr>\n    <tr>\n      <th>951</th>\n      <td>1065</td>\n      <td>0</td>\n    </tr>\n    <tr>\n      <th>470</th>\n      <td>1066</td>\n      <td>1</td>\n    </tr>\n    <tr>\n      <th>198</th>\n      <td>1067</td>\n      <td>1</td>\n    </tr>\n  </tbody>\n</table>\n<p>1067 rows × 2 columns</p>\n</div>"
          },
          "metadata": {}
        }
      ]
    }
  ]
}